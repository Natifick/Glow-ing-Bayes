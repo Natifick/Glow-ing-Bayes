{
 "cells": [
  {
   "cell_type": "markdown",
   "id": "0eb2e73a",
   "metadata": {},
   "source": [
    "# Seminar 14. Denoising Diffusion Probabilistic Models"
   ]
  },
  {
   "cell_type": "markdown",
   "id": "115eca71",
   "metadata": {},
   "source": [
    "Author: Kolesov Alexander"
   ]
  },
  {
   "cell_type": "markdown",
   "id": "e9b1d417",
   "metadata": {},
   "source": [
    "### materials"
   ]
  },
  {
   "cell_type": "markdown",
   "id": "c8573c25",
   "metadata": {},
   "source": [
    "paper_1 - https://arxiv.org/pdf/2006.11239.pdf (DDPM)\n",
    "\n",
    "paper_2 - https://arxiv.org/pdf/1503.03585.pdf(the first paper of diffusion models)\n",
    "\n",
    "paper_3 - https://arxiv.org/pdf/2011.13456.pdf (for continuous case)\n",
    "\n",
    "book_1 - https://www.cmor-faculty.rice.edu/~cox/stoch/SDE.course.pdf thoery of stochastic differential equations (for dummies)\n",
    "\n",
    "book_2  - https://link.springer.com/book/10.1007/978-1-4939-1323-7 (more general)"
   ]
  },
  {
   "cell_type": "markdown",
   "id": "0270a50d",
   "metadata": {},
   "source": [
    "## 1. Another view to VAE models"
   ]
  },
  {
   "cell_type": "markdown",
   "id": "a6daa2ce",
   "metadata": {},
   "source": [
    "- Maximum-Likelihood Estimation:\n",
    "\n",
    "When we want to learn generative model $p(x|\\theta)$, the first attempt might be solving of $\\textbf{MLE-problem}$ and its maximization by parameters of the model:\n",
    "\n",
    "$$\\theta = \\arg\\max_{\\theta} \\log p(X|\\theta) = \\{ X = \\{ x_{i}\\}_{i=1}^{n}\\}=  \\arg\\max_{\\theta} \\sum_{i=1}^{n} \\log p(x_{i}|\\theta)$$\n",
    "\n",
    "- VAE-models: \n",
    "\n",
    "When we deal with Variational Autoencoders, than there is no access to the truth log-likelihood and we optimize corresponding lower-bound estimation that is called as $\\textbf{ELBO}$\n",
    "\n",
    "$$ \\log p(x|\\theta) \\geq \\mathcal{L}(\\theta,q) = \\int_{Z}q(z|x, \\phi)\\log\\frac{p(x,z|\\theta)}{q(z|x,\\phi)} dz$$\n",
    "\n",
    "- Expansion of latent space:\n",
    "\n",
    "We are used to fact that the latent space of VAE is only one. Thus, we map from data to latent space by encoder and map from latent to data space by decoder. \n",
    "\n",
    "![ChessUrl](https://avatars.mds.yandex.net/i?id=08f8f9de360c546d0c408f302a94e57ed1f86c57-9122788-images-thumbs&n=13 \"chess\")\n",
    "\n",
    "Let me, expand this concept and introduce some $T$ consequent latent spaces with correspoding transformations $f_{i}$:\n",
    "\n",
    "![ChessUrl](https://add.pics/images/2023/11/23/difi1.drawio.png \"chess\")  "
   ]
  },
  {
   "cell_type": "markdown",
   "id": "343e5701",
   "metadata": {},
   "source": [
    "## 2. Hierarchical  VAE models"
   ]
  },
  {
   "cell_type": "markdown",
   "id": "6c63649c",
   "metadata": {},
   "source": [
    "For the simplicity, let me denote the follwoing:\n",
    "\n",
    "- x = $x_{0}$\n",
    "\n",
    "- $z_{1} = x_{1}$\n",
    "\n",
    "- $z_{2} = x_{2}$\n",
    "\n",
    "- $z_{T} = x_{T}$\n",
    "\n",
    "After introduction more convinient notation for $T$ dimensional vectors, we should define transfromation functions between $f_{i}$ between latent statements. Undoubtedly, one can consider neural networks for this purpose , however, do not worth to complicate our life\n",
    "\n",
    "$\\textbf{Assumption :}$ Let these functions $f_{i}$ are $\\textbf{not-learnable}$ certain transfromations. Since we would like to add some stochasticity to the framework, one can consider fixed distributions as such transformations:\n",
    "\n",
    "$$ q(x_{t}|x_{t_1}) = \\mathcal{N}(x_{t}| x_{t-1}, \\beta I) $$\n",
    "\n",
    "Now, our method looks like $\\textbf{Brownian motion}$ or $\\textbf{Random movements}$. \n",
    "\n",
    "However, if we will learn means of such transformations (normal distributions) , then we obtain method that is referred to as $\\textbf{Hierarchical VAE}$. Please, see this $\\href{https://jmtomczak.github.io/blog/9/9_hierarchical_lvm_p1.html}{blog}$ for best understanding of this concept \n",
    "\n",
    "Thus, thanks to this copncept, we realize that one can whole latent spaces $Z = \\{ x_{1},...,x_{T}\\}$ and then the corresponding $\\textbf{ELBO}$ formula is:\n",
    "\n",
    "$$ \\log p(x|\\theta) \\geq \\mathcal{L}(\\theta,q) = \\int_{Z}q(x_{1},...,x_{T}|x_{0}, \\phi)\\log\\frac{p(x_{0},x_{1},..,x_{T}|\\theta)}{q(x_{1},...,x_{T}|x_{0},\\phi)} dx_{1:T}$$"
   ]
  },
  {
   "cell_type": "markdown",
   "id": "048dbb96",
   "metadata": {},
   "source": [
    "## 3. Gaussian diffusion processes"
   ]
  },
  {
   "cell_type": "markdown",
   "id": "19f051fa",
   "metadata": {},
   "source": [
    "The main theoretical aspect of diffusion models is based on the following theorem:\n",
    "    \n",
    "$\\textbf{Theorem 1:}$ Let $x_{0} \\sim \\pi(x), \\beta \\in (0,1)$. Define the Markov chain:\n",
    "\n",
    "$$ x_{t} = \\sqrt{1 - \\beta}x_{t-1} + \\sqrt{\\beta}\\epsilon  $$\n",
    "\n",
    "with the transition probability as follows:\n",
    "\n",
    "$$q(x_{t}|x_{t-1}) = \\mathcal{N}(x_{t}| \\sqrt{1 - \\beta}x_{t-1},\\beta I)$$\n",
    "\n",
    "Then:\n",
    "\n",
    "- 1. Applying the markov chain to samples from $\\pi(x)$ we will get $x_{\\infty}=\\mathcal{N}(0,I)$. Thereby, $\\mathcal{N}(0,I)$ is stationary distribution of the chain.\n",
    "\n",
    "$$ p_{\\infty}(x) = \\mathcal{N}(0,I) = \\int q(x|x^{'})p_{\\infty}(x^{'})dx^{'}$$\n",
    "\n",
    "- 2. Denote $\\overline{\\alpha}_{t} = \\prod_{s=1}^{t}(1 - \\beta_{s})$. Then:\n",
    "\n",
    "$$ x_{t} = \\sqrt{\\overline{\\alpha}_{t}}x_{0} + \\sqrt{1 - \\overline{\\alpha}_{t}}\\epsilon $$\n",
    "\n",
    "$$ q(x_{t}|x_{0}) = \\mathcal{N}(x_{t}|\\sqrt{\\overline{\\alpha}_{t}}x_{0}, (1 - \\overline{\\alpha}_{t})I)$$\n",
    "\n",
    "It means , that we can sample any $x_{t}$ using only $x_{0}$"
   ]
  },
  {
   "cell_type": "markdown",
   "id": "e453895a",
   "metadata": {},
   "source": [
    "![ChessUrl](https://ayandas.me/public/posts_res/20/diffusion_over_time.png \"chess\")   \n",
    " "
   ]
  },
  {
   "cell_type": "markdown",
   "id": "5c13186f",
   "metadata": {},
   "source": [
    "We proved the existence of a stochastic transform $\\textbf{from Data to Noise}$.   Please realize that the diffusion process does not depend on the initial density $p(x)$(complex) and the only requirement is to be able to sample from it. This is the core idea behind Diffusion Models - we use the any data distribution of our choice as the complex initial density. This leads to the $\\textbf{forward diffusion process}$. \n",
    "\n",
    "$$ x_{0} \\sim p_{data}(x) \\implies \\mathcal{F}(x_{0}) = x_{T} : x_{T} \\sim \\mathcal{N}(0,I)  $$\n",
    "\n"
   ]
  },
  {
   "cell_type": "markdown",
   "id": "c0818d32",
   "metadata": {},
   "source": [
    "![ChessUrl](https://ayandas.me/public/posts_res/20/fwddiff.gif \"chess\")   "
   ]
  },
  {
   "cell_type": "markdown",
   "id": "9e59b39d",
   "metadata": {},
   "source": [
    "$\\textbf{Idea :}$ Thus, we have Stochastic Differential Equation ($\\textbf{SDE}$) equation, that looks like:\n",
    "\n",
    "$$ dx_{t} = \\sqrt{1 - \\beta_{t}}x_{t-1} + \\sqrt{\\beta}\\epsilon  $$\n",
    "\n",
    "Thank to this SDE, we make build  $\\color{red}{\\textbf{!! not-learnable !!}}$ trajectory $\\textbf{from Data to Noise}$.\n",
    "\n",
    "If we deal with ordinary Differential Equation $\\textbf{ODE}$, then ine can run this ODE in reversed time and we get trajectories from Noise to Data.\n",
    "\n",
    "Thus, we should realize reverse-time SDE $\\mathcal{F}^{-1}$ of the forward $\\mathcal{F}$. Thus, our desire for building Diffusion probabilistic models as follows:"
   ]
  },
  {
   "cell_type": "markdown",
   "id": "185dedfe",
   "metadata": {},
   "source": [
    "![ChessUrl]( https://ayandas.me/public/posts_res/20/diffusion_pgm.png \"chess\")   "
   ]
  },
  {
   "cell_type": "markdown",
   "id": "cb770f1d",
   "metadata": {},
   "source": [
    "![ChessUrl]( https://avatars.mds.yandex.net/i?id=bae9d85b53c547d4825a327bfa90b208fd56d628-8287805-images-thumbs&n=13 \"chess\")   \n",
    " \n"
   ]
  },
  {
   "cell_type": "markdown",
   "id": "cb142334",
   "metadata": {},
   "source": [
    "Also, one can compare architectures and concepts of another generative models:\n",
    "    \n",
    "- VAE\n",
    "- FLOW-based models\n",
    "- Diffusion models\n",
    "- GAN"
   ]
  },
  {
   "cell_type": "markdown",
   "id": "948c81fc",
   "metadata": {},
   "source": [
    "\n",
    "![ChessUrl](https://avatars.mds.yandex.net/i?id=c552d12e145f72c9ee01673eb7ba53bbf569f2bf-9858428-images-thumbs&n=13 \"chess\")\n",
    " \n",
    " "
   ]
  },
  {
   "cell_type": "markdown",
   "id": "abcaa6f9",
   "metadata": {},
   "source": [
    "## 4. Reverse process"
   ]
  },
  {
   "cell_type": "markdown",
   "id": "d0038a4b",
   "metadata": {},
   "source": [
    "$\\textbf{Theoretical statetment:}$ If forward process is represented as set of Gaussian condtional transfromtions $q(x_{t}|x_{t-1})$, then the reverse process will be the same, but with unknown parameters $p{x_{t-1}|x_{t}}$\n",
    "\n",
    "Thus, we have 2 joint distributions of latent codes:\n",
    "\n",
    "By the property of Markovian chains, one can represent forward process as:\n",
    "\n",
    "- $q(x_{1},...,x_{T}|x_{0}) = q( x_{T} | x_{T-1},x_{0}) q(x_{T-1} | x_{T-2},x_{0})...q(x_{2} | x_{1},x_{0})$\n",
    "\n",
    "By the property of Markovian chains, one can represent reversed process as:\n",
    "\n",
    "- $p(x_{1},...,x_{T}) = p(x_{T-1}|x_{T})p(x_{T-1}|x_{T})....p(x_{1}|x_{2})$"
   ]
  },
  {
   "cell_type": "markdown",
   "id": "2d851889",
   "metadata": {},
   "source": [
    "Now, we pay our attention to the loss function:\n",
    "\n",
    "$$\\int_{x_{1:T}}q(x_{1},...,x_{T}|x_{0})\\log\\frac{p(x_{0},x_{1},....,x_{T})}{q(x_{1},....,x_{T}|x_{0})}dx_{1: T}$$\n",
    "\n",
    "Thus, one can represent this loss as corresponding KL-divergenges:\n",
    "\n",
    "$$ \\int_{x_{1:T}} q(x_{1},...,x_{T}|x_{0})\\log p(x_{0}|x_{1})dx_{1:T} + \\int_{x_{1:T}}q(x_{1},...,x_{T}|x_{0})\\log\\frac{p(x_{1},....,x_{T})}{q(x_{1},....,x_{T}|x_{0})}dx_{1: T} $$\n",
    "\n",
    "Now , we should take into account the second term, that it is similar to minimization of KL-divergences, however, we chains in  opposite directions. Then, one can represent forward Markov chains transformation probabilities in opposite direction via $\\textbf{Bayes Theorem}$\n",
    "\n",
    "\n",
    "$\\textbf{My desire:}$ i would like to represent the forward markov chain as:\n",
    "\n",
    "$q(x_{1},...,x_{T}|x_{0}) = q(x_{T}|x_{0})q(x_{T-1}|x_{T},x_{0})q(x_{T-2}|x_{T-1},x_{0})...q(x_{1}|x_{2},x_{0})$\n",
    "\n",
    "$\\textbf{Bayes theorem:}$\n",
    "\n",
    "$$ q(x_{t-1}|x_{t},x_{0}) = \\frac{q(x_{t}|x_{t-1},x_{0})q(x_{t-1}|x_{0})}{q(x_{t}|x_{0})}$$\n",
    "\n",
    "Clarifications:\n",
    "\n",
    "- I have Markovian process,hence, there is no dependences on $x_{0} \\implies q(x_{t}|x_{t-1},x_{0}) \\to q(x_{t}|x_{t-1})  $ \n",
    "\n",
    "- All distributions are gaussian $\\implies$ one can perform accurate bayesiam inference\n",
    "\n",
    "\n",
    "\n",
    "At home, you can substitute corresponding probabilities and get formula for posterior:\n",
    "\n",
    "$$q(x_{t-1}|x_{t},x_{0}) = \\mathcal{N}(x_{t-1}| \\hat{\\mu}_{t}(x_{t},x_{0}),\\hat{\\beta_{t}}I)$$\n",
    "\n",
    "- Mean:\n",
    "\n",
    "$$\\hat{\\mu}_{t}(x_{t},x_{0})= \\frac{\\sqrt{\\overline{\\alpha}_{t-1}}}{1 - \\overline{\\alpha_{t}}}\\beta x_{0} +\\frac{\\sqrt{1 - \\beta}(1 - \\overline{\\alpha_{t}} )}{1 - \\overline{\\alpha_{t}}}x_{t}  $$\n",
    "\n",
    "- Variance:\n",
    "\n",
    "$$\\hat{\\beta_{t}} = (1 - \\overline{\\alpha_{t-1}}) \\frac{1}{1 - \\overline{\\alpha}_{t}}$$"
   ]
  },
  {
   "cell_type": "markdown",
   "id": "2e7ff716",
   "metadata": {},
   "source": [
    "## 5. The loss deriavation"
   ]
  },
  {
   "cell_type": "markdown",
   "id": "e29d71df",
   "metadata": {},
   "source": [
    "Now, we return to ELBO:\n",
    "\n",
    "$$ \\int q(x_{1}|x_{0}) \\log p(x_{0}|x_{1})dx_{1} + \\int q(x_{T}|x_{0})...q(x_{1}|x_{2},x_{0})\\log \\frac{p(x_{1}|x_{2})}{q(x_{1}|x_{2},x_{0})}\n",
    "\\frac{p(x_{T-1}|x_{T})}{q(x_{T-1}|x_{T},x_{0})}\\frac{....}{....} \\frac{p(x_{T})}{q(x_{T}|x_{0})}$$\n",
    "\n",
    "Then:\n",
    "\n",
    "$$ - \\sum_{t=1}^{T} \\mathbb{E}_{x_{1},..,x_{T}} KL(q(x_{t-1}|x_{t},x_{0}) || p(x_{t-1}|x_{t}))) - KL(q(x_{T}|x_{0}||p(x_{T})) + \\int q(x_{1}|x_{0}) \\log p(x_{0}|x_{1})dx_{1}$$\n",
    "\n",
    "- If $x_{1} \\approx x_{0}$, then const\n",
    "\n",
    "- As for certain KL in terminate state ?\n",
    "\n",
    "$\\textbf{Idea}$: Minimization of KL divergences \n",
    "\n",
    "- for simplicity: $p_{\\theta}(x_{t-1}|x_{t}) = \\mathcal{N}(\\mu_{\\theta}(x_{t},t),\\hat{\\beta_{t}}I)$\n",
    "\n",
    "- Mean matching:\n",
    "\n",
    "\n",
    "$$ KL(q(x_{t-1}|x_{t},x_{0})|| p_{\\theta}(x_{t-1}|x_{t})) = \\mathbb{E}_{x_{0},x_{1},...,x_{T},t}\\frac{1}{2\\hat{\\beta_{t}}}|| \\hat{\\mu}_{t}(x_{t},x_{0}) - \\mu_{\\theta}(x_{t},t)||_{2}^{2}$$\n"
   ]
  },
  {
   "cell_type": "markdown",
   "id": "84d2333f",
   "metadata": {},
   "source": [
    "![ChessUrl]( https://ayandas.me/public/posts_res/20/revdiff.gif \"chess\")   \n",
    " "
   ]
  },
  {
   "cell_type": "markdown",
   "id": "9b1f0843",
   "metadata": {},
   "source": [
    "![ChessUrl]( https://avatars.mds.yandex.net/i?id=f4d7440eda7d238ddfc0b89f1e6f31dfa1f8490d-10547508-images-thumbs&n=13 \"chess\")\n",
    " "
   ]
  },
  {
   "cell_type": "markdown",
   "id": "9b7eb91e",
   "metadata": {},
   "source": [
    "## 6. Re-parameterization like simplification"
   ]
  },
  {
   "cell_type": "markdown",
   "id": "56284f40",
   "metadata": {},
   "source": [
    "We would like to approximate $\\mu_{\\theta}$ by $\\hat{\\mu_{t}}$, but there is the problem! $\\hat{\\mu_{t}}(x_{0})$, while trainable mean does not depend on $x_{0}$. As a consequence of that, we cannot converge to 0 this problem:\n",
    "\n",
    "$\\textbf{Re-parametrization:}$\n",
    "\n",
    "\n",
    "$$\\hat{\\mu}_{t}(x_{t},x_{0})= \\frac{\\sqrt{\\overline{\\alpha}_{t-1}}}{1 - \\overline{\\alpha_{t}}}\\beta x_{0} +\\frac{\\sqrt{1 - \\beta}(1 - \\overline{\\alpha_{t}} )}{1 - \\overline{\\alpha_{t}}}x_{t}  $$\n",
    "\n",
    "\n",
    "$$ \\mu_{theta}(x_{t},t) = \\frac{\\sqrt{\\overline{\\alpha}_{t-1}}}{1 - \\overline{\\alpha_{t}}}\\beta \\color{red}{x_{\\theta}(x_{t},t)} +\\frac{\\sqrt{1 - \\beta}(1 - \\overline{\\alpha_{t}} )}{1 - \\overline{\\alpha_{t}}}x_{t} $$\n",
    "\n",
    "\n",
    "- Red term is as estimatiomn for $x_{0}$ \n",
    "\n",
    "Then:\n",
    "\n",
    "$$\\frac{1}{2\\hat{\\beta}_{t}}||\\hat{\\mu_{t}}(x_{t},x_{0}) - \\mu_{\\theta}(x_{t},t)||_{2}^{2} \n",
    "= \\frac{1}{2\\hat{\\beta}_{t}} || \\frac{\\sqrt{\\overline{\\alpha}_{t-1}}}{1-\\overline{\\alpha_{t}}}\\beta (x_{0} - x_{\\theta}(x_{t},t))||^{2}_{2}$$"
   ]
  },
  {
   "cell_type": "markdown",
   "id": "81fb53de",
   "metadata": {},
   "source": [
    "$\\textbf{Final reparamterization:}$\n",
    "\n",
    "$$ x_{t} = \\sqrt{\\overline{\\alpha}_{t}}x_{0} + \\sqrt{1 - \\overline{\\alpha}_{t}}\\hat{\\epsilon} $$\n",
    "\n",
    "Then, one can express:\n",
    "\n",
    "$$x_{0} = \\frac{1}{\\sqrt{\\overline{\\alpha_{t}}}}(x_{t} - \\sqrt{1 - \\overline{\\alpha}_{t}}\\hat{\\epsilon} ) $$\n",
    "\n",
    "The, one can reparametrize predicted value as:\n",
    "\n",
    "$$x_{\\theta} = \\frac{1}{\\sqrt{\\overline{\\alpha_{t}}}}(x_{t} - \\sqrt{1 - \\overline{\\alpha}_{t}} \\epsilon_{\\theta}(x_{t},t) $$\n",
    "\n",
    "Thus, the final loss function:\n",
    "\n",
    "$$ \\mathcal{L}(\\theta) = \\sum_{i=1}^{n}\\sum_{t=2}^{T} \\frac{\\beta^{2}}{2\\hat{\\beta}_{t}(1-\\beta)(1- \\overline{\\alpha}_{t})} ||  \\frac{x^{i}_{t} - \\sqrt{\\overline{\\alpha}}_{t}x_{0}^{i}}{\\sqrt{1-\\overline{\\alpha}}_{t}} - \\epsilon_{\\theta}(x^{i}_{t},t) ||$$"
   ]
  },
  {
   "cell_type": "markdown",
   "id": "3d89464c",
   "metadata": {},
   "source": [
    "## 7. Coding part"
   ]
  },
  {
   "cell_type": "code",
   "execution_count": 33,
   "id": "8b300e38",
   "metadata": {},
   "outputs": [],
   "source": [
    "import torch\n",
    "from torch.nn import init\n",
    "import torch.nn as nn\n",
    "from torch.nn import functional as F\n",
    "from torch.utils.data import TensorDataset\n",
    "from sklearn.datasets import make_moons\n",
    "import numpy as np\n",
    "from tqdm import tqdm\n",
    "import matplotlib.pyplot as plt\n",
    "%matplotlib inline"
   ]
  },
  {
   "cell_type": "markdown",
   "id": "a33c6b9b",
   "metadata": {},
   "source": [
    "### 7.1 models"
   ]
  },
  {
   "cell_type": "markdown",
   "id": "933f15fa",
   "metadata": {},
   "source": [
    "It is importantly to point out that our neural network will predict $\\textbf{noise}$. \n",
    "\n",
    "Our model is neural network, that has 2 inputs:\n",
    "\n",
    "- $x_{t}$ data \n",
    "- $t$ time like condition for more accurate prediction noise of $x_{t}$\n",
    "\n",
    "It is worth to notice that we have the same model for each step , we do not train new model for each new step. $\\color{red}{One\\quad model\\quad for\\quad all\\quad steps!}$\n",
    "\n",
    "Also, You should understand that $t$ is like a value condition and in order to estimate his influence to corresponding noise as a condition , it would be great to create embeddings of the time by corresponding network below."
   ]
  },
  {
   "cell_type": "code",
   "execution_count": 25,
   "id": "05a7b53c",
   "metadata": {},
   "outputs": [],
   "source": [
    "class SinusoidalEmbedding(nn.Module):\n",
    "    def __init__(self, size: int, scale: float = 1.0):\n",
    "        super().__init__()\n",
    "        self.size = size\n",
    "        self.scale = scale\n",
    "\n",
    "    def forward(self, x: torch.Tensor):\n",
    "        x = x * self.scale\n",
    "        half_size = self.size // 2\n",
    "        emb = torch.log(torch.Tensor([10000.0])) / (half_size - 1)\n",
    "        emb = torch.exp(-emb * torch.arange(half_size))\n",
    "        emb = x.unsqueeze(-1) * emb.unsqueeze(0)\n",
    "        emb = torch.cat((torch.sin(emb), torch.cos(emb)), dim=-1)\n",
    "        return emb\n",
    "\n",
    "    def __len__(self):\n",
    "        return self.size"
   ]
  },
  {
   "cell_type": "code",
   "execution_count": 26,
   "id": "823888a1",
   "metadata": {},
   "outputs": [],
   "source": [
    "class PositionalEmbedding(nn.Module):\n",
    "    def __init__(self, size: int, type: str, **kwargs):\n",
    "        super().__init__()\n",
    " \n",
    "        self.layer = SinusoidalEmbedding(size, **kwargs)\n",
    "        \n",
    "    def forward(self, x: torch.Tensor):\n",
    "        return self.layer(x)"
   ]
  },
  {
   "cell_type": "code",
   "execution_count": 21,
   "id": "bb02470f",
   "metadata": {},
   "outputs": [],
   "source": [
    "class Block(nn.Module):\n",
    "    def __init__(self, size: int):\n",
    "        super().__init__()\n",
    "\n",
    "        self.ff = nn.Linear(size, size)\n",
    "        self.act = nn.GELU()\n",
    "\n",
    "    def forward(self, x: torch.Tensor):\n",
    "        return x + self.act(self.ff(x))\n",
    "\n",
    "\n",
    "class MLP(nn.Module):\n",
    "    def __init__(self, hidden_size: int = 128, hidden_layers: int = 3, emb_size: int = 128,\n",
    "                 time_emb: str = \"sinusoidal\", input_emb: str = \"sinusoidal\"):\n",
    "        super().__init__()\n",
    "\n",
    "        self.time_mlp = PositionalEmbedding(emb_size, time_emb)\n",
    "        self.input_mlp1 = PositionalEmbedding(emb_size, input_emb, scale=25.0)\n",
    "        self.input_mlp2 = PositionalEmbedding(emb_size, input_emb, scale=25.0)\n",
    "\n",
    "        concat_size = len(self.time_mlp.layer) + \\\n",
    "            len(self.input_mlp1.layer) + len(self.input_mlp2.layer)\n",
    "        layers = [nn.Linear(concat_size, hidden_size), nn.GELU()]\n",
    "        for _ in range(hidden_layers):\n",
    "            layers.append(Block(hidden_size))\n",
    "        layers.append(nn.Linear(hidden_size, 2))\n",
    "        self.joint_mlp = nn.Sequential(*layers)\n",
    "\n",
    "    def forward(self, x, t):\n",
    "        x1_emb = self.input_mlp1(x[:, 0])\n",
    "        x2_emb = self.input_mlp2(x[:, 1])\n",
    "        t_emb = self.time_mlp(t)\n",
    "        x = torch.cat((x1_emb, x2_emb, t_emb), dim=-1)\n",
    "        x = self.joint_mlp(x)\n",
    "        return x"
   ]
  },
  {
   "cell_type": "markdown",
   "id": "cd96dfcb",
   "metadata": {},
   "source": [
    "### 7.2 Data"
   ]
  },
  {
   "cell_type": "markdown",
   "id": "ab6dd8d7",
   "metadata": {},
   "source": [
    "We use simple two moons dataset as data."
   ]
  },
  {
   "cell_type": "code",
   "execution_count": 23,
   "id": "1aa90dd3",
   "metadata": {},
   "outputs": [],
   "source": [
    "def moons_dataset(n=8000):\n",
    "    X, _ = make_moons(n_samples=n, random_state=42, noise=0.03)\n",
    "    X[:, 0] = (X[:, 0] + 0.3) * 2 - 1\n",
    "    X[:, 1] = (X[:, 1] + 0.3) * 3 - 1\n",
    "    return TensorDataset(torch.from_numpy(X.astype(np.float32)))"
   ]
  },
  {
   "cell_type": "markdown",
   "id": "80b770a2",
   "metadata": {},
   "source": [
    "### 7.3 Gaussian Diffusion"
   ]
  },
  {
   "cell_type": "markdown",
   "id": "6cfd6108",
   "metadata": {},
   "source": [
    "This calss is composed of whole formulas from senimar , please familiari`e you with these formulas accurately."
   ]
  },
  {
   "cell_type": "code",
   "execution_count": 22,
   "id": "533f2b99",
   "metadata": {},
   "outputs": [],
   "source": [
    "class NoiseScheduler():\n",
    "    def __init__(self,\n",
    "                 num_timesteps=1000,\n",
    "                 beta_start=0.0001,\n",
    "                 beta_end=0.02,\n",
    "                 beta_schedule=\"linear\"):\n",
    "\n",
    "        self.num_timesteps = num_timesteps\n",
    "        if beta_schedule == \"linear\":\n",
    "            self.betas = torch.linspace(\n",
    "                beta_start, beta_end, num_timesteps, dtype=torch.float32)\n",
    "        elif beta_schedule == \"quadratic\":\n",
    "            self.betas = torch.linspace(\n",
    "                beta_start ** 0.5, beta_end ** 0.5, num_timesteps, dtype=torch.float32) ** 2\n",
    "\n",
    "        self.alphas = 1.0 - self.betas\n",
    "        self.alphas_cumprod = torch.cumprod(self.alphas, axis=0)\n",
    "        self.alphas_cumprod_prev = F.pad(\n",
    "            self.alphas_cumprod[:-1], (1, 0), value=1.)\n",
    "\n",
    "        # required for self.add_noise\n",
    "        self.sqrt_alphas_cumprod = self.alphas_cumprod ** 0.5\n",
    "        self.sqrt_one_minus_alphas_cumprod = (1 - self.alphas_cumprod) ** 0.5\n",
    "\n",
    "        # required for reconstruct_x0\n",
    "        self.sqrt_inv_alphas_cumprod = torch.sqrt(1 / self.alphas_cumprod)\n",
    "        self.sqrt_inv_alphas_cumprod_minus_one = torch.sqrt(\n",
    "            1 / self.alphas_cumprod - 1)\n",
    "\n",
    "        # required for q_posterior\n",
    "        self.posterior_mean_coef1 = self.betas * torch.sqrt(self.alphas_cumprod_prev) / (1. - self.alphas_cumprod)\n",
    "        self.posterior_mean_coef2 = (1. - self.alphas_cumprod_prev) * torch.sqrt(self.alphas) / (1. - self.alphas_cumprod)\n",
    "\n",
    "    def reconstruct_x0(self, x_t, t, noise):\n",
    "        s1 = self.sqrt_inv_alphas_cumprod[t]\n",
    "        s2 = self.sqrt_inv_alphas_cumprod_minus_one[t]\n",
    "        s1 = s1.reshape(-1, 1)\n",
    "        s2 = s2.reshape(-1, 1)\n",
    "        return s1 * x_t - s2 * noise\n",
    "\n",
    "    def q_posterior(self, x_0, x_t, t):\n",
    "        s1 = self.posterior_mean_coef1[t]\n",
    "        s2 = self.posterior_mean_coef2[t]\n",
    "        s1 = s1.reshape(-1, 1)\n",
    "        s2 = s2.reshape(-1, 1)\n",
    "        mu = s1 * x_0 + s2 * x_t\n",
    "        return mu\n",
    "\n",
    "    def get_variance(self, t):\n",
    "        if t == 0:\n",
    "            return 0\n",
    "\n",
    "        variance = self.betas[t] * (1. - self.alphas_cumprod_prev[t]) / (1. - self.alphas_cumprod[t])\n",
    "        variance = variance.clip(1e-20)\n",
    "        return variance\n",
    "\n",
    "    def step(self, model_output, timestep, sample):\n",
    "        t = timestep\n",
    "        pred_original_sample = self.reconstruct_x0(sample, t, model_output)\n",
    "        pred_prev_sample = self.q_posterior(pred_original_sample, sample, t)\n",
    "\n",
    "        variance = 0\n",
    "        if t > 0:\n",
    "            noise = torch.randn_like(model_output)\n",
    "            variance = (self.get_variance(t) ** 0.5) * noise\n",
    "\n",
    "        pred_prev_sample = pred_prev_sample + variance\n",
    "\n",
    "        return pred_prev_sample\n",
    "\n",
    "    def add_noise(self, x_start, x_noise, timesteps):\n",
    "        s1 = self.sqrt_alphas_cumprod[timesteps]\n",
    "        s2 = self.sqrt_one_minus_alphas_cumprod[timesteps]\n",
    "\n",
    "        s1 = s1.reshape(-1, 1)\n",
    "        s2 = s2.reshape(-1, 1)\n",
    "\n",
    "        return s1 * x_start + s2 * x_noise\n",
    "\n",
    "    def __len__(self):\n",
    "        return self.num_timesteps\n"
   ]
  },
  {
   "cell_type": "markdown",
   "id": "f29ab4ce",
   "metadata": {},
   "source": [
    "### 7.4 Training"
   ]
  },
  {
   "cell_type": "markdown",
   "id": "6dc0a73d",
   "metadata": {},
   "source": [
    "We choose hyper parameters for method and run it"
   ]
  },
  {
   "cell_type": "code",
   "execution_count": 32,
   "id": "0860f9bb",
   "metadata": {},
   "outputs": [],
   "source": [
    "NUM_SAMPLES_DATA = 10_000\n",
    "BATCH_SIZE=128\n",
    "\n",
    "HIDDEN_SIZE = 128\n",
    "HIDDEN_LAYERS=3\n",
    "EMBEDDING_SIZE = 128\n",
    "TIME_EMBEDDING=\"sinusoidal\"\n",
    "INPUT_EMEDDING=\"sinusoidal\"\n",
    "\n",
    "NUM_TIMESTEPS = 50\n",
    "BETA_SCHEDULE = 'linear'\n",
    "LR = 5e-4\n",
    "\n",
    "NUM_EPOCHS=200"
   ]
  },
  {
   "cell_type": "code",
   "execution_count": 31,
   "id": "75428536",
   "metadata": {},
   "outputs": [],
   "source": [
    "dataset = moons_dataset(NUM_SAMPLES_DATA)\n",
    "dataloader = torch.utils.data.DataLoader(\n",
    "        dataset, batch_size=BATCH_SIZE , shuffle=True, drop_last=True)\n",
    "\n",
    "model = MLP(\n",
    "        hidden_size=HIDDEN_SIZE,\n",
    "        hidden_layers=HIDDEN_LAYERS,\n",
    "        emb_size=EMBEDDING_SIZE,\n",
    "        time_emb=TIME_EMBEDDING,\n",
    "        input_emb=INPUT_EMEDDING)\n",
    "\n",
    "noise_scheduler = NoiseScheduler(\n",
    "        num_timesteps=NUM_TIMESTEPS,\n",
    "        beta_schedule=BETA_SCHEDULE)\n",
    "\n",
    "optimizer = torch.optim.AdamW(\n",
    "        model.parameters(),\n",
    "        lr=LR,\n",
    "    )"
   ]
  },
  {
   "cell_type": "code",
   "execution_count": 34,
   "id": "d4b13dbb",
   "metadata": {},
   "outputs": [
    {
     "name": "stderr",
     "output_type": "stream",
     "text": [
      "100%|██████████| 200/200 [26:55<00:00,  8.08s/it]\n"
     ]
    }
   ],
   "source": [
    "global_step = 0\n",
    "frames = []\n",
    "losses = []\n",
    " \n",
    "for epoch in tqdm(range(NUM_EPOCHS)):\n",
    "    \n",
    "    model.train()\n",
    "   \n",
    "    \n",
    "    for step, batch in enumerate(dataloader):\n",
    "        batch = batch[0]\n",
    "        noise = torch.randn(batch.shape)\n",
    "        timesteps = torch.randint(\n",
    "            0, noise_scheduler.num_timesteps, (batch.shape[0],)\n",
    "        ).long()\n",
    "\n",
    "        noisy = noise_scheduler.add_noise(batch, noise, timesteps)\n",
    "        noise_pred = model(noisy, timesteps)\n",
    "        loss = F.mse_loss(noise_pred, noise)\n",
    "        loss.backward(loss)\n",
    "\n",
    "        nn.utils.clip_grad_norm_(model.parameters(), 1.0)\n",
    "        optimizer.step()\n",
    "        optimizer.zero_grad()\n",
    "        losses.append(loss.detach().item())\n",
    "         \n",
    " "
   ]
  },
  {
   "cell_type": "code",
   "execution_count": 42,
   "id": "ed36b86e",
   "metadata": {},
   "outputs": [
    {
     "name": "stderr",
     "output_type": "stream",
     "text": [
      "100%|██████████| 50/50 [00:03<00:00, 14.01it/s]\n"
     ]
    }
   ],
   "source": [
    "model.eval()\n",
    "sample = torch.randn(1024, 2) # sampling from noise\n",
    "timesteps = list(range(len(noise_scheduler)))[::-1]\n",
    "for i, t in enumerate(tqdm(timesteps)):\n",
    "    t = torch.from_numpy(np.repeat(t,  1024)).long()\n",
    "    with torch.no_grad():\n",
    "        residual = model(sample, t)\n",
    "    sample = noise_scheduler.step(residual, t[0], sample)"
   ]
  },
  {
   "cell_type": "code",
   "execution_count": 43,
   "id": "a7afd6bf",
   "metadata": {},
   "outputs": [
    {
     "data": {
      "image/png": "[encoded data removed]",
      "text/plain": [
       "<Figure size 432x288 with 1 Axes>"
      ]
     },
     "metadata": {
      "needs_background": "light"
     },
     "output_type": "display_data"
    }
   ],
   "source": [
    "plt.scatter(sample[:,0],sample[:,1], edgecolor='black', label=\"generated data\")\n",
    "plt.grid();\n",
    "plt.legend();"
   ]
  },
  {
   "cell_type": "code",
   "execution_count": null,
   "id": "73b74c80",
   "metadata": {},
   "outputs": [],
   "source": []
  }
 ],
 "metadata": {
  "kernelspec": {
   "display_name": "Python 3",
   "language": "python",
   "name": "python3"
  },
  "language_info": {
   "codemirror_mode": {
    "name": "ipython",
    "version": 3
   },
   "file_extension": ".py",
   "mimetype": "text/x-python",
   "name": "python",
   "nbconvert_exporter": "python",
   "pygments_lexer": "ipython3",
   "version": "3.8.5"
  }
 },
 "nbformat": 4,
 "nbformat_minor": 5
}
